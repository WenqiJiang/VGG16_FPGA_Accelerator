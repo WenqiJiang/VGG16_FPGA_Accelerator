{
 "cells": [
  {
   "cell_type": "code",
   "execution_count": 1,
   "metadata": {},
   "outputs": [],
   "source": [
    "import numpy as np\n",
    "\n",
    "\n",
    "dir_name = './weights_npy/'\n",
    "layer_names = [\n",
    "#          'block1_conv1',\n",
    "#          'block1_conv2',\n",
    "#          'block2_conv1',\n",
    "#          'block2_conv2',\n",
    "#          'block3_conv1',\n",
    "#          'block3_conv2',\n",
    "#          'block3_conv3',\n",
    "#          'block4_conv1',\n",
    "#          'block4_conv2',\n",
    "#          'block4_conv3',\n",
    "#          'block5_conv1',\n",
    "#          'block5_conv2',\n",
    "#          'block5_conv3',\n",
    "         'fc1',\n",
    "         'fc2',\n",
    "         'predictions']"
   ]
  },
  {
   "cell_type": "code",
   "execution_count": 8,
   "metadata": {},
   "outputs": [],
   "source": [
    "for i in range(len(layer_names)):\n",
    "    kernel = np.load(dir_name + layer_names[i] + 'kernel.npy')\n",
    "    bias = np.load(dir_name + layer_names[i] + 'bias.npy')\n",
    "    kernel_flatten = np.ndarray.flatten(kernel)\n",
    "    \n",
    "    with open(\"weights_txt/{}_kernel.txt\".format(layer_names[i]), 'w') as f:\n",
    "        for j in range(kernel_flatten.shape[0]):\n",
    "            f.write(str(kernel_flatten[j]) + '\\n')\n",
    "            \n",
    "    with open(\"weights_txt/{}_bias.txt\".format(layer_names[i]), 'w') as f:\n",
    "        for j in range(bias.shape[0]):\n",
    "            f.write(str(bias[j]) + '\\n')"
   ]
  },
  {
   "cell_type": "code",
   "execution_count": null,
   "metadata": {},
   "outputs": [],
   "source": []
  }
 ],
 "metadata": {
  "kernelspec": {
   "display_name": "Python 3",
   "language": "python",
   "name": "python3"
  },
  "language_info": {
   "codemirror_mode": {
    "name": "ipython",
    "version": 3
   },
   "file_extension": ".py",
   "mimetype": "text/x-python",
   "name": "python",
   "nbconvert_exporter": "python",
   "pygments_lexer": "ipython3",
   "version": "3.7.3"
  }
 },
 "nbformat": 4,
 "nbformat_minor": 2
}
