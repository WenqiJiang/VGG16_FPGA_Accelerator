{
 "cells": [
  {
   "cell_type": "markdown",
   "metadata": {},
   "source": [
    "# Convert numbers to fixed point"
   ]
  },
  {
   "cell_type": "code",
   "execution_count": 1,
   "metadata": {},
   "outputs": [],
   "source": [
    "import numpy as np\n",
    "\n",
    "from num2fixed import decimal_dec_to_bin, dec_to_bin, dec_to_bin_array"
   ]
  },
  {
   "cell_type": "code",
   "execution_count": 2,
   "metadata": {},
   "outputs": [
    {
     "data": {
      "text/plain": [
       "'0100000000000000'"
      ]
     },
     "execution_count": 2,
     "metadata": {},
     "output_type": "execute_result"
    }
   ],
   "source": [
    "#question, int_digit + decimal_digit == 15 and 1 bit for sign right?\n",
    "\n",
    "\n",
    "# now, why two zeros before '.'? should be only 1\n",
    "dec_to_bin(0.5, int_digit=0, decimal_digit=15)"
   ]
  },
  {
   "cell_type": "code",
   "execution_count": 3,
   "metadata": {},
   "outputs": [
    {
     "data": {
      "text/plain": [
       "'01100000000000000'"
      ]
     },
     "execution_count": 3,
     "metadata": {},
     "output_type": "execute_result"
    }
   ],
   "source": [
    "dec_to_bin(1.5, int_digit=0, decimal_digit=15)"
   ]
  },
  {
   "cell_type": "code",
   "execution_count": 4,
   "metadata": {},
   "outputs": [
    {
     "data": {
      "text/plain": [
       "'0010000000000000'"
      ]
     },
     "execution_count": 4,
     "metadata": {},
     "output_type": "execute_result"
    }
   ],
   "source": [
    "# set int_digit = 1 and same fraction part as before (just 1 less zero), this time we have a correct answer\n",
    "dec_to_bin(0.5, int_digit=1, decimal_digit=14)"
   ]
  },
  {
   "cell_type": "code",
   "execution_count": 5,
   "metadata": {},
   "outputs": [
    {
     "data": {
      "text/plain": [
       "'0001000000000000'"
      ]
     },
     "execution_count": 5,
     "metadata": {},
     "output_type": "execute_result"
    }
   ],
   "source": [
    "# things becomes normal\n",
    "dec_to_bin(0.5, int_digit=2, decimal_digit=13)"
   ]
  },
  {
   "cell_type": "code",
   "execution_count": 6,
   "metadata": {},
   "outputs": [
    {
     "data": {
      "text/plain": [
       "'1100000000000000'"
      ]
     },
     "execution_count": 6,
     "metadata": {},
     "output_type": "execute_result"
    }
   ],
   "source": [
    "# now, disaster appears\n",
    "dec_to_bin(-0.5, int_digit=0, decimal_digit=15)"
   ]
  },
  {
   "cell_type": "code",
   "execution_count": 7,
   "metadata": {},
   "outputs": [
    {
     "data": {
      "text/plain": [
       "'10100000000000000'"
      ]
     },
     "execution_count": 7,
     "metadata": {},
     "output_type": "execute_result"
    }
   ],
   "source": [
    "# disaster appears again\n",
    "dec_to_bin(-0.5, int_digit=1, decimal_digit=15)"
   ]
  },
  {
   "cell_type": "code",
   "execution_count": 8,
   "metadata": {},
   "outputs": [
    {
     "data": {
      "text/plain": [
       "'100100000000000000'"
      ]
     },
     "execution_count": 8,
     "metadata": {},
     "output_type": "execute_result"
    }
   ],
   "source": [
    "# disaster appears again and again :(\n",
    "dec_to_bin(-0.5, int_digit=2, decimal_digit=15)"
   ]
  },
  {
   "cell_type": "code",
   "execution_count": 9,
   "metadata": {},
   "outputs": [
    {
     "name": "stdout",
     "output_type": "stream",
     "text": [
      "1.25\t:\t 00000101000\n",
      "-1.25\t:\t 11111101000\n",
      "0.875\t:\t 00000011100\n",
      "13.212\t:\t 00110100110\n"
     ]
    }
   ],
   "source": [
    "print(\"1.25\\t:\\t\", dec_to_bin(1.25, int_digit=5, decimal_digit=5))\n",
    "print(\"-1.25\\t:\\t\", dec_to_bin(-1.25, int_digit=5, decimal_digit=5))\n",
    "print(\"0.875\\t:\\t\", dec_to_bin(0.875, int_digit=5, decimal_digit=5))\n",
    "print(\"13.212\\t:\\t\", dec_to_bin(13.21234, int_digit=5, decimal_digit=5))"
   ]
  },
  {
   "cell_type": "code",
   "execution_count": 10,
   "metadata": {},
   "outputs": [
    {
     "name": "stdout",
     "output_type": "stream",
     "text": [
      "['00000001.01000000', '11111111.01000000', '00000000.11100000', '00001101.00110110']\n",
      "['0000000101000000', '1111111101000000', '0000000011100000', '0000110100110110']\n"
     ]
    }
   ],
   "source": [
    "x = np.array([[1.25, -1.25], [0.875, 13.212]])\n",
    "print(dec_to_bin_array(x, 7, 8, decimal_point=True))\n",
    "print(dec_to_bin_array(x, 7, 8, decimal_point=False))"
   ]
  },
  {
   "cell_type": "markdown",
   "metadata": {},
   "source": [
    "# Convert Image to 0/1 txt"
   ]
  },
  {
   "cell_type": "code",
   "execution_count": 47,
   "metadata": {},
   "outputs": [],
   "source": [
    "from PIL import Image\n",
    "import numpy as np\n",
    "\n",
    "def load_image( infilename ) :\n",
    "    img = Image.open( infilename )\n",
    "    img.load()\n",
    "    data = np.asarray( img, dtype=\"int32\" )\n",
    "    return data\n",
    "\n",
    "def write_img_bin(img_dir='../img/resize_img/1.bmp', out_filename='img.txt'):\n",
    "    \"\"\"\n",
    "    for image, fixed 8 bits integer, 7 bits decimal\n",
    "    write the image to a txt file of 0 and 1s\n",
    "    \"\"\"\n",
    "    img = load_image(img_dir)\n",
    "    assert img.shape == (224, 224, 3)\n",
    "    \n",
    "    bin_img = dec_to_bin_array(img,8,7,decimal_point=False)\n",
    "    img_str = \"\".join(bin_img)\n",
    "    assert len(img_str) / 224 / 224 / 16 / 3 == 1\n",
    "    \n",
    "    with open(out_filename, 'w') as f:\n",
    "        f.write(\"%s\" % img_str)"
   ]
  },
  {
   "cell_type": "code",
   "execution_count": 46,
   "metadata": {
    "scrolled": true
   },
   "outputs": [],
   "source": [
    "write_img_bin('../img/resize_img/{}.bmp'.format(1), 'img.txt')"
   ]
  },
  {
   "cell_type": "code",
   "execution_count": null,
   "metadata": {},
   "outputs": [],
   "source": []
  }
 ],
 "metadata": {
  "kernelspec": {
   "display_name": "Python 3",
   "language": "python",
   "name": "python3"
  },
  "language_info": {
   "codemirror_mode": {
    "name": "ipython",
    "version": 3
   },
   "file_extension": ".py",
   "mimetype": "text/x-python",
   "name": "python",
   "nbconvert_exporter": "python",
   "pygments_lexer": "ipython3",
   "version": "3.6.8"
  }
 },
 "nbformat": 4,
 "nbformat_minor": 2
}
