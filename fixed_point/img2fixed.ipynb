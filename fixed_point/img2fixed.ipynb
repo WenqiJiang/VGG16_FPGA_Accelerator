{
 "cells": [
  {
   "cell_type": "markdown",
   "metadata": {},
   "source": [
    "# Convert numbers to fixed point"
   ]
  },
  {
   "cell_type": "code",
   "execution_count": 1,
   "metadata": {},
   "outputs": [],
   "source": [
    "import numpy as np\n",
    "\n",
    "from num2fixed import decimal_dec_to_bin, dec_to_bin, dec_to_bin_array"
   ]
  },
  {
   "cell_type": "code",
   "execution_count": 2,
   "metadata": {},
   "outputs": [
    {
     "data": {
      "text/plain": [
       "'0.100000000000000'"
      ]
     },
     "execution_count": 2,
     "metadata": {},
     "output_type": "execute_result"
    }
   ],
   "source": [
    "#question, int_digit + decimal_digit == 15 and 1 bit for sign right?\n",
    "\n",
    "\n",
    "# now, why two zeros before '.'? should be only 1\n",
    "dec_to_bin(0.5, int_digit=0, decimal_digit=15, decimal_point=True)"
   ]
  },
  {
   "cell_type": "code",
   "execution_count": 3,
   "metadata": {},
   "outputs": [
    {
     "data": {
      "text/plain": [
       "'01.100000000000000'"
      ]
     },
     "execution_count": 3,
     "metadata": {},
     "output_type": "execute_result"
    }
   ],
   "source": [
    "dec_to_bin(1.5, int_digit=0, decimal_digit=15, decimal_point=True)"
   ]
  },
  {
   "cell_type": "code",
   "execution_count": 8,
   "metadata": {},
   "outputs": [
    {
     "data": {
      "text/plain": [
       "'00.11100000000000'"
      ]
     },
     "execution_count": 8,
     "metadata": {},
     "output_type": "execute_result"
    }
   ],
   "source": [
    "dec_to_bin(0.875, int_digit=1, decimal_digit=14, decimal_point=True)"
   ]
  },
  {
   "cell_type": "code",
   "execution_count": 5,
   "metadata": {},
   "outputs": [
    {
     "data": {
      "text/plain": [
       "'11.00100000000000'"
      ]
     },
     "execution_count": 5,
     "metadata": {},
     "output_type": "execute_result"
    }
   ],
   "source": [
    "# set int_digit = 1 and same fraction part as before (just 1 less zero), this time we have a correct answer\n",
    "dec_to_bin(-0.875, int_digit=1, decimal_digit=14, decimal_point=True)"
   ]
  },
  {
   "cell_type": "code",
   "execution_count": 9,
   "metadata": {},
   "outputs": [
    {
     "data": {
      "text/plain": [
       "'000.1000000000000'"
      ]
     },
     "execution_count": 9,
     "metadata": {},
     "output_type": "execute_result"
    }
   ],
   "source": [
    "# things becomes normal\n",
    "dec_to_bin(0.5, int_digit=2, decimal_digit=13, decimal_point=True)"
   ]
  },
  {
   "cell_type": "code",
   "execution_count": 10,
   "metadata": {},
   "outputs": [
    {
     "data": {
      "text/plain": [
       "'1.100000000000000'"
      ]
     },
     "execution_count": 10,
     "metadata": {},
     "output_type": "execute_result"
    }
   ],
   "source": [
    "# now, disaster appears\n",
    "dec_to_bin(-0.5, int_digit=0, decimal_digit=15, decimal_point=True)"
   ]
  },
  {
   "cell_type": "code",
   "execution_count": 11,
   "metadata": {},
   "outputs": [
    {
     "data": {
      "text/plain": [
       "'11.100000000000000'"
      ]
     },
     "execution_count": 11,
     "metadata": {},
     "output_type": "execute_result"
    }
   ],
   "source": [
    "# disaster appears again\n",
    "dec_to_bin(-0.5, int_digit=1, decimal_digit=15, decimal_point=True)"
   ]
  },
  {
   "cell_type": "code",
   "execution_count": 12,
   "metadata": {},
   "outputs": [
    {
     "data": {
      "text/plain": [
       "'111.100000000000000'"
      ]
     },
     "execution_count": 12,
     "metadata": {},
     "output_type": "execute_result"
    }
   ],
   "source": [
    "# disaster appears again and again :(\n",
    "dec_to_bin(-0.5, int_digit=2, decimal_digit=15, decimal_point=True)"
   ]
  },
  {
   "cell_type": "code",
   "execution_count": 13,
   "metadata": {},
   "outputs": [
    {
     "name": "stdout",
     "output_type": "stream",
     "text": [
      "1.25\t:\t 000001.01000\n",
      "-1.25\t:\t 111110.11000\n",
      "0.875\t:\t 000000.11100\n",
      "13.212\t:\t 001101.00110\n"
     ]
    }
   ],
   "source": [
    "print(\"1.25\\t:\\t\", dec_to_bin(1.25, int_digit=5, decimal_digit=5, decimal_point=True))\n",
    "print(\"-1.25\\t:\\t\", dec_to_bin(-1.25, int_digit=5, decimal_digit=5, decimal_point=True))\n",
    "print(\"0.875\\t:\\t\", dec_to_bin(0.875, int_digit=5, decimal_digit=5, decimal_point=True))\n",
    "print(\"13.212\\t:\\t\", dec_to_bin(13.21234, int_digit=5, decimal_digit=5, decimal_point=True))"
   ]
  },
  {
   "cell_type": "code",
   "execution_count": 14,
   "metadata": {},
   "outputs": [
    {
     "name": "stdout",
     "output_type": "stream",
     "text": [
      "['00000001.01000000', '11111110.11000000', '00000000.11100000', '00001101.00110110']\n",
      "['0000000101000000', '1111111011000000', '0000000011100000', '0000110100110110']\n"
     ]
    }
   ],
   "source": [
    "x = np.array([[1.25, -1.25], [0.875, 13.212]])\n",
    "print(dec_to_bin_array(x, 7, 8, decimal_point=True))\n",
    "print(dec_to_bin_array(x, 7, 8, decimal_point=False))"
   ]
  },
  {
   "cell_type": "markdown",
   "metadata": {},
   "source": [
    "# Convert Image to 0/1 txt"
   ]
  },
  {
   "cell_type": "code",
   "execution_count": 26,
   "metadata": {},
   "outputs": [],
   "source": [
    "from PIL import Image\n",
    "import numpy as np\n",
    "\n",
    "def load_image( infilename ) :\n",
    "    img = Image.open( infilename )\n",
    "    img.load()\n",
    "    data = np.asarray( img, dtype=\"float64\" )\n",
    "    return data\n",
    "\n",
    "def normalize_img(image):\n",
    "    \"\"\"\n",
    "    im[:,:,0] -= 103.939\n",
    "    im[:,:,1] -= 116.779\n",
    "    im[:,:,2] -= 123.68\n",
    "    \"\"\"\n",
    "    image[:,:,0] -= 103.939\n",
    "    image[:,:,1] -= 116.779\n",
    "    image[:,:,2] -= 123.68\n",
    "\n",
    "    return image\n",
    "\n",
    "def padding_img(image):\n",
    "    h, w, c = image.shape\n",
    "    assert h == w and w == 224 and c == 3\n",
    "    \n",
    "    img_pad = np.zeros((h + 2, w + 2, c))\n",
    "    img_pad[1:-1, 1:-1, :] = image\n",
    "    \n",
    "    return img_pad\n",
    "    \n",
    "def write_img_bin(img_dir='../img/resize_img/1.bmp', out_filename='img.txt'):\n",
    "    \"\"\"\n",
    "    for image, fixed 8 bits integer, 7 bits decimal\n",
    "    write the image to a txt file of 0 and 1s\n",
    "    \"\"\"\n",
    "    img = load_image(img_dir)\n",
    "    img = normalize_img(img)\n",
    "    img = padding_img(img)\n",
    "    assert img.shape == (226, 226, 3)\n",
    "    print(img)\n",
    "    \n",
    "    bin_img = dec_to_bin_array(img,8,7,decimal_point=False)\n",
    "    img_str = \"\".join(bin_img)\n",
    "    assert len(img_str) / 224 / 224 / 16 / 3 == 1\n",
    "    \n",
    "    with open(out_filename, 'w') as f:\n",
    "        f.write(\"%s\" % img_str)"
   ]
  },
  {
   "cell_type": "code",
   "execution_count": 27,
   "metadata": {
    "scrolled": true
   },
   "outputs": [
    {
     "name": "stdout",
     "output_type": "stream",
     "text": [
      "[[[   0.       0.       0.   ]\n",
      "  [   0.       0.       0.   ]\n",
      "  [   0.       0.       0.   ]\n",
      "  ...\n",
      "  [   0.       0.       0.   ]\n",
      "  [   0.       0.       0.   ]\n",
      "  [   0.       0.       0.   ]]\n",
      "\n",
      " [[   0.       0.       0.   ]\n",
      "  [-102.939 -115.779 -122.68 ]\n",
      "  [-103.939 -116.779 -122.68 ]\n",
      "  ...\n",
      "  [ -97.939 -111.779 -122.68 ]\n",
      "  [ -99.939 -113.779 -123.68 ]\n",
      "  [   0.       0.       0.   ]]\n",
      "\n",
      " [[   0.       0.       0.   ]\n",
      "  [-100.939 -113.779 -121.68 ]\n",
      "  [-100.939 -113.779 -121.68 ]\n",
      "  ...\n",
      "  [ -99.939 -112.779 -123.68 ]\n",
      "  [ -98.939 -113.779 -123.68 ]\n",
      "  [   0.       0.       0.   ]]\n",
      "\n",
      " ...\n",
      "\n",
      " [[   0.       0.       0.   ]\n",
      "  [ -95.939 -107.779 -108.68 ]\n",
      "  [ -95.939 -107.779 -109.68 ]\n",
      "  ...\n",
      "  [-100.939 -113.779 -122.68 ]\n",
      "  [ -98.939 -112.779 -118.68 ]\n",
      "  [   0.       0.       0.   ]]\n",
      "\n",
      " [[   0.       0.       0.   ]\n",
      "  [ -97.939 -109.779 -111.68 ]\n",
      "  [ -97.939 -109.779 -111.68 ]\n",
      "  ...\n",
      "  [ -99.939 -112.779 -122.68 ]\n",
      "  [ -99.939 -112.779 -119.68 ]\n",
      "  [   0.       0.       0.   ]]\n",
      "\n",
      " [[   0.       0.       0.   ]\n",
      "  [   0.       0.       0.   ]\n",
      "  [   0.       0.       0.   ]\n",
      "  ...\n",
      "  [   0.       0.       0.   ]\n",
      "  [   0.       0.       0.   ]\n",
      "  [   0.       0.       0.   ]]]\n"
     ]
    },
    {
     "ename": "AssertionError",
     "evalue": "",
     "output_type": "error",
     "traceback": [
      "\u001b[0;31m---------------------------------------------------------------------------\u001b[0m",
      "\u001b[0;31mAssertionError\u001b[0m                            Traceback (most recent call last)",
      "\u001b[0;32m<ipython-input-27-34b370f6e751>\u001b[0m in \u001b[0;36m<module>\u001b[0;34m\u001b[0m\n\u001b[0;32m----> 1\u001b[0;31m \u001b[0mwrite_img_bin\u001b[0m\u001b[0;34m(\u001b[0m\u001b[0;34m'../img/resize_img/{}.bmp'\u001b[0m\u001b[0;34m.\u001b[0m\u001b[0mformat\u001b[0m\u001b[0;34m(\u001b[0m\u001b[0;36m1\u001b[0m\u001b[0;34m)\u001b[0m\u001b[0;34m,\u001b[0m \u001b[0;34m'img.txt'\u001b[0m\u001b[0;34m)\u001b[0m\u001b[0;34m\u001b[0m\u001b[0;34m\u001b[0m\u001b[0m\n\u001b[0m",
      "\u001b[0;32m<ipython-input-26-a59d6ec2fab4>\u001b[0m in \u001b[0;36mwrite_img_bin\u001b[0;34m(img_dir, out_filename)\u001b[0m\n\u001b[1;32m     42\u001b[0m     \u001b[0mbin_img\u001b[0m \u001b[0;34m=\u001b[0m \u001b[0mdec_to_bin_array\u001b[0m\u001b[0;34m(\u001b[0m\u001b[0mimg\u001b[0m\u001b[0;34m,\u001b[0m\u001b[0;36m8\u001b[0m\u001b[0;34m,\u001b[0m\u001b[0;36m7\u001b[0m\u001b[0;34m,\u001b[0m\u001b[0mdecimal_point\u001b[0m\u001b[0;34m=\u001b[0m\u001b[0;32mFalse\u001b[0m\u001b[0;34m)\u001b[0m\u001b[0;34m\u001b[0m\u001b[0;34m\u001b[0m\u001b[0m\n\u001b[1;32m     43\u001b[0m     \u001b[0mimg_str\u001b[0m \u001b[0;34m=\u001b[0m \u001b[0;34m\"\"\u001b[0m\u001b[0;34m.\u001b[0m\u001b[0mjoin\u001b[0m\u001b[0;34m(\u001b[0m\u001b[0mbin_img\u001b[0m\u001b[0;34m)\u001b[0m\u001b[0;34m\u001b[0m\u001b[0;34m\u001b[0m\u001b[0m\n\u001b[0;32m---> 44\u001b[0;31m     \u001b[0;32massert\u001b[0m \u001b[0mlen\u001b[0m\u001b[0;34m(\u001b[0m\u001b[0mimg_str\u001b[0m\u001b[0;34m)\u001b[0m \u001b[0;34m/\u001b[0m \u001b[0;36m224\u001b[0m \u001b[0;34m/\u001b[0m \u001b[0;36m224\u001b[0m \u001b[0;34m/\u001b[0m \u001b[0;36m16\u001b[0m \u001b[0;34m/\u001b[0m \u001b[0;36m3\u001b[0m \u001b[0;34m==\u001b[0m \u001b[0;36m1\u001b[0m\u001b[0;34m\u001b[0m\u001b[0;34m\u001b[0m\u001b[0m\n\u001b[0m\u001b[1;32m     45\u001b[0m \u001b[0;34m\u001b[0m\u001b[0m\n\u001b[1;32m     46\u001b[0m     \u001b[0;32mwith\u001b[0m \u001b[0mopen\u001b[0m\u001b[0;34m(\u001b[0m\u001b[0mout_filename\u001b[0m\u001b[0;34m,\u001b[0m \u001b[0;34m'w'\u001b[0m\u001b[0;34m)\u001b[0m \u001b[0;32mas\u001b[0m \u001b[0mf\u001b[0m\u001b[0;34m:\u001b[0m\u001b[0;34m\u001b[0m\u001b[0;34m\u001b[0m\u001b[0m\n",
      "\u001b[0;31mAssertionError\u001b[0m: "
     ]
    }
   ],
   "source": [
    "write_img_bin('../img/resize_img/{}.bmp'.format(1), 'img.txt')"
   ]
  },
  {
   "cell_type": "code",
   "execution_count": 28,
   "metadata": {},
   "outputs": [
    {
     "data": {
      "text/plain": [
       "'110011001.0001000'"
      ]
     },
     "execution_count": 28,
     "metadata": {},
     "output_type": "execute_result"
    }
   ],
   "source": [
    "dec_to_bin(-102.939, int_digit=8, decimal_digit=7, decimal_point=True)"
   ]
  },
  {
   "cell_type": "code",
   "execution_count": null,
   "metadata": {},
   "outputs": [],
   "source": []
  }
 ],
 "metadata": {
  "kernelspec": {
   "display_name": "Python 3",
   "language": "python",
   "name": "python3"
  },
  "language_info": {
   "codemirror_mode": {
    "name": "ipython",
    "version": 3
   },
   "file_extension": ".py",
   "mimetype": "text/x-python",
   "name": "python",
   "nbconvert_exporter": "python",
   "pygments_lexer": "ipython3",
   "version": "3.7.3"
  }
 },
 "nbformat": 4,
 "nbformat_minor": 2
}
