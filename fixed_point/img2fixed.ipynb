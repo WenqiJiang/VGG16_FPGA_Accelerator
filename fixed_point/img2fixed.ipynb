{
 "cells": [
  {
   "cell_type": "markdown",
   "metadata": {},
   "source": [
    "# Convert numbers to fixed point"
   ]
  },
  {
   "cell_type": "code",
   "execution_count": 1,
   "metadata": {},
   "outputs": [],
   "source": [
    "import numpy as np\n",
    "\n",
    "from num2fixed import decimal_dec_to_bin, dec_to_bin, dec_to_bin_array"
   ]
  },
  {
   "cell_type": "code",
   "execution_count": 2,
   "metadata": {},
   "outputs": [
    {
     "data": {
      "text/plain": [
       "'0.100000000000000'"
      ]
     },
     "execution_count": 2,
     "metadata": {},
     "output_type": "execute_result"
    }
   ],
   "source": [
    "#question, int_digit + decimal_digit == 15 and 1 bit for sign right?\n",
    "\n",
    "\n",
    "# now, why two zeros before '.'? should be only 1\n",
    "dec_to_bin(0.5, int_digit=0, decimal_digit=15, decimal_point=True)"
   ]
  },
  {
   "cell_type": "code",
   "execution_count": 3,
   "metadata": {},
   "outputs": [
    {
     "data": {
      "text/plain": [
       "'01.100000000000000'"
      ]
     },
     "execution_count": 3,
     "metadata": {},
     "output_type": "execute_result"
    }
   ],
   "source": [
    "dec_to_bin(1.5, int_digit=0, decimal_digit=15, decimal_point=True)"
   ]
  },
  {
   "cell_type": "code",
   "execution_count": 8,
   "metadata": {},
   "outputs": [
    {
     "data": {
      "text/plain": [
       "'00.11100000000000'"
      ]
     },
     "execution_count": 8,
     "metadata": {},
     "output_type": "execute_result"
    }
   ],
   "source": [
    "dec_to_bin(0.875, int_digit=1, decimal_digit=14, decimal_point=True)"
   ]
  },
  {
   "cell_type": "code",
   "execution_count": 5,
   "metadata": {},
   "outputs": [
    {
     "data": {
      "text/plain": [
       "'11.00100000000000'"
      ]
     },
     "execution_count": 5,
     "metadata": {},
     "output_type": "execute_result"
    }
   ],
   "source": [
    "# set int_digit = 1 and same fraction part as before (just 1 less zero), this time we have a correct answer\n",
    "dec_to_bin(-0.875, int_digit=1, decimal_digit=14, decimal_point=True)"
   ]
  },
  {
   "cell_type": "code",
   "execution_count": 9,
   "metadata": {},
   "outputs": [
    {
     "data": {
      "text/plain": [
       "'000.1000000000000'"
      ]
     },
     "execution_count": 9,
     "metadata": {},
     "output_type": "execute_result"
    }
   ],
   "source": [
    "# things becomes normal\n",
    "dec_to_bin(0.5, int_digit=2, decimal_digit=13, decimal_point=True)"
   ]
  },
  {
   "cell_type": "code",
   "execution_count": 10,
   "metadata": {},
   "outputs": [
    {
     "data": {
      "text/plain": [
       "'1.100000000000000'"
      ]
     },
     "execution_count": 10,
     "metadata": {},
     "output_type": "execute_result"
    }
   ],
   "source": [
    "# now, disaster appears\n",
    "dec_to_bin(-0.5, int_digit=0, decimal_digit=15, decimal_point=True)"
   ]
  },
  {
   "cell_type": "code",
   "execution_count": 11,
   "metadata": {},
   "outputs": [
    {
     "data": {
      "text/plain": [
       "'11.100000000000000'"
      ]
     },
     "execution_count": 11,
     "metadata": {},
     "output_type": "execute_result"
    }
   ],
   "source": [
    "# disaster appears again\n",
    "dec_to_bin(-0.5, int_digit=1, decimal_digit=15, decimal_point=True)"
   ]
  },
  {
   "cell_type": "code",
   "execution_count": 12,
   "metadata": {},
   "outputs": [
    {
     "data": {
      "text/plain": [
       "'111.100000000000000'"
      ]
     },
     "execution_count": 12,
     "metadata": {},
     "output_type": "execute_result"
    }
   ],
   "source": [
    "# disaster appears again and again :(\n",
    "dec_to_bin(-0.5, int_digit=2, decimal_digit=15, decimal_point=True)"
   ]
  },
  {
   "cell_type": "code",
   "execution_count": 13,
   "metadata": {},
   "outputs": [
    {
     "name": "stdout",
     "output_type": "stream",
     "text": [
      "1.25\t:\t 000001.01000\n",
      "-1.25\t:\t 111110.11000\n",
      "0.875\t:\t 000000.11100\n",
      "13.212\t:\t 001101.00110\n"
     ]
    }
   ],
   "source": [
    "print(\"1.25\\t:\\t\", dec_to_bin(1.25, int_digit=5, decimal_digit=5, decimal_point=True))\n",
    "print(\"-1.25\\t:\\t\", dec_to_bin(-1.25, int_digit=5, decimal_digit=5, decimal_point=True))\n",
    "print(\"0.875\\t:\\t\", dec_to_bin(0.875, int_digit=5, decimal_digit=5, decimal_point=True))\n",
    "print(\"13.212\\t:\\t\", dec_to_bin(13.21234, int_digit=5, decimal_digit=5, decimal_point=True))"
   ]
  },
  {
   "cell_type": "code",
   "execution_count": 14,
   "metadata": {},
   "outputs": [
    {
     "name": "stdout",
     "output_type": "stream",
     "text": [
      "['00000001.01000000', '11111110.11000000', '00000000.11100000', '00001101.00110110']\n",
      "['0000000101000000', '1111111011000000', '0000000011100000', '0000110100110110']\n"
     ]
    }
   ],
   "source": [
    "x = np.array([[1.25, -1.25], [0.875, 13.212]])\n",
    "print(dec_to_bin_array(x, 7, 8, decimal_point=True))\n",
    "print(dec_to_bin_array(x, 7, 8, decimal_point=False))"
   ]
  },
  {
   "cell_type": "markdown",
   "metadata": {},
   "source": [
    "# Convert Image to 0/1 txt"
   ]
  },
  {
   "cell_type": "code",
   "execution_count": 18,
   "metadata": {},
   "outputs": [],
   "source": [
    "from PIL import Image\n",
    "import numpy as np\n",
    "\n",
    "def load_image( infilename ) :\n",
    "    img = Image.open( infilename )\n",
    "    img.load()\n",
    "    data = np.asarray( img, dtype=\"float64\" )\n",
    "    return data\n",
    "\n",
    "def normalize_img(image):\n",
    "    \"\"\"\n",
    "    im[:,:,0] -= 103.939\n",
    "    im[:,:,1] -= 116.779\n",
    "    im[:,:,2] -= 123.68\n",
    "    \"\"\"\n",
    "    image[:,:,0] -= 103.939\n",
    "    image[:,:,1] -= 116.779\n",
    "    image[:,:,2] -= 123.68\n",
    "    \n",
    "    print(image)\n",
    "    \n",
    "    return image\n",
    "    \n",
    "def write_img_bin(img_dir='../img/resize_img/1.bmp', out_filename='img.txt'):\n",
    "    \"\"\"\n",
    "    for image, fixed 8 bits integer, 7 bits decimal\n",
    "    write the image to a txt file of 0 and 1s\n",
    "    \"\"\"\n",
    "    img = load_image(img_dir)\n",
    "    img = normalize_img(img)\n",
    "    assert img.shape == (224, 224, 3)\n",
    "    \n",
    "    bin_img = dec_to_bin_array(img,8,7,decimal_point=False)\n",
    "    img_str = \"\".join(bin_img)\n",
    "    assert len(img_str) / 224 / 224 / 16 / 3 == 1\n",
    "    \n",
    "    with open(out_filename, 'w') as f:\n",
    "        f.write(\"%s\" % img_str)"
   ]
  },
  {
   "cell_type": "code",
   "execution_count": 19,
   "metadata": {
    "scrolled": true
   },
   "outputs": [
    {
     "name": "stdout",
     "output_type": "stream",
     "text": [
      "[[[-102.939 -115.779 -122.68 ]\n",
      "  [-103.939 -116.779 -122.68 ]\n",
      "  [-102.939 -115.779 -121.68 ]\n",
      "  ...\n",
      "  [ -98.939 -111.779 -121.68 ]\n",
      "  [ -97.939 -111.779 -122.68 ]\n",
      "  [ -99.939 -113.779 -123.68 ]]\n",
      "\n",
      " [[-100.939 -113.779 -121.68 ]\n",
      "  [-100.939 -113.779 -121.68 ]\n",
      "  [-101.939 -114.779 -121.68 ]\n",
      "  ...\n",
      "  [-100.939 -113.779 -122.68 ]\n",
      "  [ -99.939 -112.779 -123.68 ]\n",
      "  [ -98.939 -113.779 -123.68 ]]\n",
      "\n",
      " [[-101.939 -114.779 -123.68 ]\n",
      "  [-100.939 -113.779 -122.68 ]\n",
      "  [-100.939 -113.779 -120.68 ]\n",
      "  ...\n",
      "  [ -99.939 -112.779 -121.68 ]\n",
      "  [ -99.939 -111.779 -121.68 ]\n",
      "  [-100.939 -113.779 -123.68 ]]\n",
      "\n",
      " ...\n",
      "\n",
      " [[ -94.939 -107.779 -105.68 ]\n",
      "  [ -94.939 -106.779 -108.68 ]\n",
      "  [ -91.939 -104.779 -107.68 ]\n",
      "  ...\n",
      "  [-100.939 -112.779 -123.68 ]\n",
      "  [-101.939 -114.779 -123.68 ]\n",
      "  [ -99.939 -112.779 -119.68 ]]\n",
      "\n",
      " [[ -95.939 -107.779 -108.68 ]\n",
      "  [ -95.939 -107.779 -109.68 ]\n",
      "  [ -91.939 -104.779 -106.68 ]\n",
      "  ...\n",
      "  [-101.939 -113.779 -123.68 ]\n",
      "  [-100.939 -113.779 -122.68 ]\n",
      "  [ -98.939 -112.779 -118.68 ]]\n",
      "\n",
      " [[ -97.939 -109.779 -111.68 ]\n",
      "  [ -97.939 -109.779 -111.68 ]\n",
      "  [ -92.939 -104.779 -106.68 ]\n",
      "  ...\n",
      "  [-101.939 -114.779 -123.68 ]\n",
      "  [ -99.939 -112.779 -122.68 ]\n",
      "  [ -99.939 -112.779 -119.68 ]]]\n"
     ]
    }
   ],
   "source": [
    "write_img_bin('../img/resize_img/{}.bmp'.format(1), 'img.txt')"
   ]
  },
  {
   "cell_type": "code",
   "execution_count": 20,
   "metadata": {},
   "outputs": [
    {
     "data": {
      "text/plain": [
       "'110011001.0001000'"
      ]
     },
     "execution_count": 20,
     "metadata": {},
     "output_type": "execute_result"
    }
   ],
   "source": [
    "dec_to_bin(-102.939, int_digit=8, decimal_digit=7, decimal_point=True)"
   ]
  },
  {
   "cell_type": "code",
   "execution_count": null,
   "metadata": {},
   "outputs": [],
   "source": []
  }
 ],
 "metadata": {
  "kernelspec": {
   "display_name": "Python 3",
   "language": "python",
   "name": "python3"
  },
  "language_info": {
   "codemirror_mode": {
    "name": "ipython",
    "version": 3
   },
   "file_extension": ".py",
   "mimetype": "text/x-python",
   "name": "python",
   "nbconvert_exporter": "python",
   "pygments_lexer": "ipython3",
   "version": "3.7.3"
  }
 },
 "nbformat": 4,
 "nbformat_minor": 2
}
