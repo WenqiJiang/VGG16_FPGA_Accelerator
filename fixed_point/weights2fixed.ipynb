{
 "cells": [
  {
   "cell_type": "code",
   "execution_count": 34,
   "metadata": {},
   "outputs": [],
   "source": [
    "def add_1(complement):\n",
    "    n = len(complement)\n",
    "    carry = 1\n",
    "    i = n - 1\n",
    "    complement = list(complement)\n",
    "\n",
    "    while i > 0 and carry:\n",
    "        if complement[i] == '0' and carry == 1:\n",
    "            complement[i] = '1'\n",
    "            carry = 0\n",
    "        if complement[i] == '1' and carry == 1:\n",
    "            complement[i] = '0'\n",
    "        i -= 1\n",
    "        #print(carry)\n",
    "\n",
    "    return \"\".join(complement)\n",
    "    \n",
    "def decimal_dec_to_bin(x, decimal_digit):\n",
    "    \"\"\"\n",
    "    :param x: is the original number\n",
    "    :param decimal_digit: the number of digits of decimal part.\n",
    "    :return:\n",
    "    \"\"\"\n",
    "    x = abs(x)\n",
    "    x -= int(x)\n",
    "    bins = \"\"\n",
    "    i = 0\n",
    "    while x and i < decimal_digit:\n",
    "        x *= 2\n",
    "        bins += \"1\" if x >= 1. else \"0\"\n",
    "        x -= int(x)\n",
    "        i += 1\n",
    "    return bins\n",
    "\n",
    "def dec_to_bin(x, int_digit, decimal_digit):\n",
    "    \"\"\"\n",
    "    :param x: original number\n",
    "    :param int_digit: the number of digits of integer part.\n",
    "    :param decimal_digit: the number of digits of decimal part.\n",
    "    :return:\n",
    "    \"\"\"\n",
    "    decimal = decimal_dec_to_bin(x, decimal_digit)\n",
    "    if x >= 0:  # true form = complement\n",
    "        integer = bin(int(x))[2:]\n",
    "        if integer == \"0\":\n",
    "            integer = \"\"\n",
    "        add_zero_int = int_digit - len(integer)\n",
    "        add_zero_integer_complement =\"0\" + \"0\" * add_zero_int + integer\n",
    "    if x < 0:\n",
    "        integer = bin(int(x))[3:]\n",
    "        if integer == \"0\":\n",
    "            integer = \"\"\n",
    "        add_zero_int = int_digit - len(integer)\n",
    "        add_zero_integer_true = \"1\" + \"0\" * add_zero_int + integer # true form\n",
    "        \n",
    "        add_zero_integer_reverse = \"1\" + \"\".join(str(0 if int(r) == 1 else 1) for r in add_zero_integer_true[1:]) # radix-minus-one complement\n",
    "        add_zero_integer_complement = add_1(add_zero_integer_reverse)\n",
    "        #print(add_zero_integer_complement)\n",
    "\n",
    "         # radix-minus-one complement\n",
    "    add_zero_dec = decimal_digit - len(decimal)\n",
    "    add_zero_dec = decimal + \"0\" * add_zero_dec\n",
    "\n",
    "    return add_zero_integer_complement + \".\" + add_zero_dec"
   ]
  },
  {
   "cell_type": "code",
   "execution_count": 35,
   "metadata": {},
   "outputs": [
    {
     "data": {
      "text/plain": [
       "'0.100000000000000'"
      ]
     },
     "execution_count": 35,
     "metadata": {},
     "output_type": "execute_result"
    }
   ],
   "source": [
    "#question, int_digit + decimal_digit == 15 and 1 bit for sign right?\n",
    "\n",
    "\n",
    "# now, why two zeros before '.'? should be only 1\n",
    "dec_to_bin(0.5, int_digit=0, decimal_digit=15)"
   ]
  },
  {
   "cell_type": "code",
   "execution_count": 36,
   "metadata": {},
   "outputs": [
    {
     "data": {
      "text/plain": [
       "'01.100000000000000'"
      ]
     },
     "execution_count": 36,
     "metadata": {},
     "output_type": "execute_result"
    }
   ],
   "source": [
    "dec_to_bin(1.5, int_digit=0, decimal_digit=15)"
   ]
  },
  {
   "cell_type": "code",
   "execution_count": 37,
   "metadata": {},
   "outputs": [
    {
     "data": {
      "text/plain": [
       "'00.10000000000000'"
      ]
     },
     "execution_count": 37,
     "metadata": {},
     "output_type": "execute_result"
    }
   ],
   "source": [
    "# set int_digit = 1 and same fraction part as before (just 1 less zero), this time we have a correct answer\n",
    "dec_to_bin(0.5, int_digit=1, decimal_digit=14)"
   ]
  },
  {
   "cell_type": "code",
   "execution_count": 38,
   "metadata": {},
   "outputs": [
    {
     "data": {
      "text/plain": [
       "'000.1000000000000'"
      ]
     },
     "execution_count": 38,
     "metadata": {},
     "output_type": "execute_result"
    }
   ],
   "source": [
    "# things becomes normal\n",
    "dec_to_bin(0.5, int_digit=2, decimal_digit=13)"
   ]
  },
  {
   "cell_type": "code",
   "execution_count": 40,
   "metadata": {},
   "outputs": [
    {
     "data": {
      "text/plain": [
       "'1.100000000000000'"
      ]
     },
     "execution_count": 40,
     "metadata": {},
     "output_type": "execute_result"
    }
   ],
   "source": [
    "# now, disaster appears\n",
    "dec_to_bin(-0.5, int_digit=0, decimal_digit=15)"
   ]
  },
  {
   "cell_type": "code",
   "execution_count": 41,
   "metadata": {},
   "outputs": [
    {
     "data": {
      "text/plain": [
       "'10.100000000000000'"
      ]
     },
     "execution_count": 41,
     "metadata": {},
     "output_type": "execute_result"
    }
   ],
   "source": [
    "# disaster appears again\n",
    "dec_to_bin(-0.5, int_digit=1, decimal_digit=15)"
   ]
  },
  {
   "cell_type": "code",
   "execution_count": 42,
   "metadata": {},
   "outputs": [
    {
     "data": {
      "text/plain": [
       "'100.100000000000000'"
      ]
     },
     "execution_count": 42,
     "metadata": {},
     "output_type": "execute_result"
    }
   ],
   "source": [
    "# disaster appears again and again :(\n",
    "dec_to_bin(-0.5, int_digit=2, decimal_digit=15)"
   ]
  },
  {
   "cell_type": "code",
   "execution_count": 48,
   "metadata": {},
   "outputs": [
    {
     "name": "stdout",
     "output_type": "stream",
     "text": [
      "1.25\t:\t 000001.01000\n",
      "-1.25\t:\t 111111.01000\n",
      "0.875\t:\t 000000.11100\n",
      "13.212\t:\t 001101.00110\n"
     ]
    }
   ],
   "source": [
    "print(\"1.25\\t:\\t\", dec_to_bin(1.25, int_digit=5, decimal_digit=5))\n",
    "print(\"-1.25\\t:\\t\", dec_to_bin(-1.25, int_digit=5, decimal_digit=5))\n",
    "print(\"0.875\\t:\\t\", dec_to_bin(0.875, int_digit=5, decimal_digit=5))\n",
    "print(\"13.212\\t:\\t\", dec_to_bin(13.21234, int_digit=5, decimal_digit=5))"
   ]
  },
  {
   "cell_type": "code",
   "execution_count": null,
   "metadata": {},
   "outputs": [],
   "source": []
  }
 ],
 "metadata": {
  "kernelspec": {
   "display_name": "Python 3",
   "language": "python",
   "name": "python3"
  },
  "language_info": {
   "codemirror_mode": {
    "name": "ipython",
    "version": 3
   },
   "file_extension": ".py",
   "mimetype": "text/x-python",
   "name": "python",
   "nbconvert_exporter": "python",
   "pygments_lexer": "ipython3",
   "version": "3.6.5"
  }
 },
 "nbformat": 4,
 "nbformat_minor": 2
}
