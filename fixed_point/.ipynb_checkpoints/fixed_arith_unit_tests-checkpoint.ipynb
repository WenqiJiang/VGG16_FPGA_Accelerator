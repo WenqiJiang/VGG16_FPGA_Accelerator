{
 "cells": [
  {
   "cell_type": "code",
   "execution_count": 1,
   "metadata": {},
   "outputs": [],
   "source": [
    "from fixed_arith import fixed_mul, relu, fixed2float, unsigned_fixed_add, fixed_add, \\\n",
    "     dec_to_bin, dec_to_bin_array, int_digit, fixed_add_array"
   ]
  },
  {
   "cell_type": "markdown",
   "metadata": {},
   "source": [
    "## unsigned fixed add unit test"
   ]
  },
  {
   "cell_type": "code",
   "execution_count": 2,
   "metadata": {},
   "outputs": [
    {
     "name": "stdout",
     "output_type": "stream",
     "text": [
      "2 \t (0, '111111111111111')\n"
     ]
    }
   ],
   "source": [
    "x1 = '010101010101010' # len = 15\n",
    "x2 = '101010101010101' # len = 15\n",
    "\n",
    "result = unsigned_fixed_add(x1, x2)\n",
    "print(len(result), '\\t', result)"
   ]
  },
  {
   "cell_type": "code",
   "execution_count": 3,
   "metadata": {},
   "outputs": [
    {
     "name": "stdout",
     "output_type": "stream",
     "text": [
      "(0, '1111111111111111')\n",
      "(1, '0000000000000011')\n"
     ]
    }
   ],
   "source": [
    "print(unsigned_fixed_add('0000000000000000', '1111111111111111')) # 0 + (-1)\n",
    "print(unsigned_fixed_add('0000000000000100', '1111111111111111')) # 4 + (-1)"
   ]
  },
  {
   "cell_type": "markdown",
   "metadata": {},
   "source": [
    "## fixed add unit test"
   ]
  },
  {
   "cell_type": "code",
   "execution_count": 4,
   "metadata": {},
   "outputs": [
    {
     "name": "stdout",
     "output_type": "stream",
     "text": [
      "16 \t 1011111111111111\n",
      "float1:\t85.328125\tfloat2:\t-213.3359375\tfixed_result:\t-128.0078125\tactual_result:\t-128.0078125\t\n"
     ]
    }
   ],
   "source": [
    "x1 = '0010101010101010' # len = 15\n",
    "x2 = '1001010101010101' # len = 15\n",
    "\n",
    "result = fixed_add(x1, x2, 8, 8)\n",
    "print(len(result), '\\t', result)\n",
    "\n",
    "fl_x1 = fixed2float(x1, integer_x=8)\n",
    "fl_x2 = fixed2float(x2)\n",
    "fl_result = fixed2float(result)\n",
    "actual_result = fl_x1 + fl_x2\n",
    "print(\"float1:\\t{}\\tfloat2:\\t{}\\tfixed_result:\\t{}\\tactual_result:\\t{}\\t\".format(\n",
    "        fl_x1, fl_x2, fl_result, actual_result))"
   ]
  },
  {
   "cell_type": "markdown",
   "metadata": {},
   "source": [
    "## fixed2float unit test"
   ]
  },
  {
   "cell_type": "code",
   "execution_count": 5,
   "metadata": {},
   "outputs": [
    {
     "name": "stdout",
     "output_type": "stream",
     "text": [
      "fixed point: 0000000001110000\n",
      "floating point: 0.875\n"
     ]
    }
   ],
   "source": [
    "fixed = dec_to_bin(0.875, int_digit=8, decimal_digit=7)\n",
    "fl = fixed2float(fixed, integer_x=8)\n",
    "\n",
    "print(\"fixed point: {}\\nfloating point: {}\".format(fixed, fl))"
   ]
  },
  {
   "cell_type": "code",
   "execution_count": 6,
   "metadata": {},
   "outputs": [],
   "source": [
    "# 0 00000000 111 0000\n",
    "# 1 11111111 000 1111\n",
    "# 1 11111111 001 0000"
   ]
  },
  {
   "cell_type": "code",
   "execution_count": 7,
   "metadata": {},
   "outputs": [
    {
     "data": {
      "text/plain": [
       "'1111111110000000'"
      ]
     },
     "execution_count": 7,
     "metadata": {},
     "output_type": "execute_result"
    }
   ],
   "source": [
    "dec_to_bin(-1, int_digit=8, decimal_digit=7)"
   ]
  },
  {
   "cell_type": "code",
   "execution_count": 8,
   "metadata": {},
   "outputs": [],
   "source": [
    "def add_1(complement):\n",
    "    n = len(complement)\n",
    "    carry = 1\n",
    "    i = n - 1\n",
    "    complement = list(complement)\n",
    "\n",
    "    while i > 0 and carry:\n",
    "        if complement[i] == '0' and carry == 1:\n",
    "            complement[i] = '1'\n",
    "            carry = 0\n",
    "        if complement[i] == '1' and carry == 1:\n",
    "            complement[i] = '0'\n",
    "        i -= 1\n",
    "        #print(carry)\n",
    "\n",
    "    return \"\".join(complement)"
   ]
  },
  {
   "cell_type": "code",
   "execution_count": 9,
   "metadata": {},
   "outputs": [
    {
     "data": {
      "text/plain": [
       "'1111111110010000'"
      ]
     },
     "execution_count": 9,
     "metadata": {},
     "output_type": "execute_result"
    }
   ],
   "source": [
    "add_1('1111111110001111')"
   ]
  },
  {
   "cell_type": "code",
   "execution_count": 10,
   "metadata": {},
   "outputs": [
    {
     "data": {
      "text/plain": [
       "7"
      ]
     },
     "execution_count": 10,
     "metadata": {},
     "output_type": "execute_result"
    }
   ],
   "source": [
    "int_digit(-108.875)"
   ]
  },
  {
   "cell_type": "code",
   "execution_count": 11,
   "metadata": {},
   "outputs": [
    {
     "name": "stdout",
     "output_type": "stream",
     "text": [
      "-2242.125\n"
     ]
    }
   ],
   "source": [
    "num = -2242.22\n",
    "int_num = int_digit(num)\n",
    "fixed = dec_to_bin(num, int_digit=int_num, decimal_digit=15 - int_num)\n",
    "# 1 11111111 001 0000\n",
    "print(fixed2float(fixed,int_num))"
   ]
  },
  {
   "cell_type": "code",
   "execution_count": 12,
   "metadata": {},
   "outputs": [
    {
     "data": {
      "text/plain": [
       "'0b0'"
      ]
     },
     "execution_count": 12,
     "metadata": {},
     "output_type": "execute_result"
    }
   ],
   "source": [
    "bin(int(-0.875))"
   ]
  },
  {
   "cell_type": "markdown",
   "metadata": {},
   "source": [
    "## fixed multiplication unit test"
   ]
  },
  {
   "cell_type": "code",
   "execution_count": 13,
   "metadata": {},
   "outputs": [
    {
     "name": "stdout",
     "output_type": "stream",
     "text": [
      "1111100001100111 1111111001001001\n",
      "0001101000001110\n",
      "52.109375 actual result: 52.136\n"
     ]
    }
   ],
   "source": [
    "x1 = -15.2\n",
    "x2 = -3.43\n",
    "fixed_x1 = dec_to_bin(x1, int_digit=8, decimal_digit=7)\n",
    "fixed_x2 = dec_to_bin(x2, int_digit=8, decimal_digit=7)\n",
    "print(fixed_x1, fixed_x2)\n",
    "result = fixed_mul(fixed_x1, fixed_x2, integer_x1=8, integer_x2=8, integer_result=8)\n",
    "print(result)\n",
    "print(fixed2float(result), \"actual result:\", x1 * x2)"
   ]
  },
  {
   "cell_type": "code",
   "execution_count": null,
   "metadata": {},
   "outputs": [],
   "source": []
  }
 ],
 "metadata": {
  "kernelspec": {
   "display_name": "Python 3",
   "language": "python",
   "name": "python3"
  },
  "language_info": {
   "codemirror_mode": {
    "name": "ipython",
    "version": 3
   },
   "file_extension": ".py",
   "mimetype": "text/x-python",
   "name": "python",
   "nbconvert_exporter": "python",
   "pygments_lexer": "ipython3",
   "version": "3.7.3"
  }
 },
 "nbformat": 4,
 "nbformat_minor": 2
}
