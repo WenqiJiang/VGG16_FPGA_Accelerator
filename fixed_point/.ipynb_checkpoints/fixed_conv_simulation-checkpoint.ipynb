{
 "cells": [
  {
   "cell_type": "code",
   "execution_count": 1,
   "metadata": {},
   "outputs": [],
   "source": [
    "from num2fixed import dec_to_bin, dec_to_bin_array"
   ]
  },
  {
   "cell_type": "code",
   "execution_count": 84,
   "metadata": {},
   "outputs": [],
   "source": [
    "def unsigned_fixed_add(x1, x2):\n",
    "    \"\"\" unsigned fixed point add\n",
    "    x1, x2: string of signed fixed point number,\n",
    "            they must have the same length, e.g. 15.\n",
    "    return:\n",
    "        a tuple (carry_flag, fixed_result)\n",
    "        carry_flag: 0 or 1\n",
    "        fixed_result: string which has same bit as inputs\n",
    "    \"\"\"\n",
    "    assert len(x1) == len(x2)\n",
    "    carry = 0\n",
    "    fixed_result = ''\n",
    "    \n",
    "    for i in reversed(range(len(x1))):\n",
    "        if x1[i] == '0' and x2[i] == '0':\n",
    "            if carry == 1:\n",
    "                fixed_result += '1'\n",
    "            else:\n",
    "                fixed_result += '0'\n",
    "            carry = 0\n",
    "        elif x1[i] == '1' and x2[i] == '1':\n",
    "            if carry == 1:\n",
    "                fixed_result += '1'\n",
    "            else:\n",
    "                fixed_result += '0'\n",
    "            carry = 1\n",
    "        else: # one 1 and one 0\n",
    "            if carry == 1:\n",
    "                fixed_result += '0'\n",
    "                carry = 1\n",
    "            else:\n",
    "                fixed_result += '1'\n",
    "                carry = 0\n",
    "    \n",
    "    return (carry, fixed_result[::-1])\n",
    "    \n",
    "def fixed_add(x1, x2, integer_x1=8, integer_x2=8):\n",
    "    \"\"\"fixed point add \n",
    "    x1, x2: string of signed fixed point number \n",
    "    integer_xi: how many digits do we give to integer part\n",
    "        e.g. sign 1 bit, integer 8 bits, decimal 7 bits\n",
    "    return:\n",
    "        a tuple (signed_fixed_result, integer_result)\n",
    "        integer_result means how many digits does the integer part have\n",
    "    \"\"\"\n",
    "    assert len(x1) == len(x2) and len(x1) == 16\n",
    "    sign1 = x1[0]\n",
    "    sign2 = x2[0]\n",
    "    unsigned1 = x1[1:]\n",
    "    unsigned2 = x2[1:]\n",
    "    \n",
    "    if integer_x1 > integer_x2:\n",
    "        delta = integer_x1 - integer_x2\n",
    "        # shift x2\n",
    "        unsigned2 = fixed_shift_right(unsigned2, shift_size=delta)\n",
    "    elif integer_x1 < integer_x2:\n",
    "        delta = integer_x2 - integer_x1\n",
    "        # shift x1\n",
    "        unsigned1 = fixed_shift_right(unsigned1, shift_size=delta)\n",
    "    else:\n",
    "        pass\n",
    "    \n",
    "    integer_result = max(integer_x1, integer_x2)\n",
    "    \n",
    "    adjusted1 = sign1 + unsigned1\n",
    "    adjusted2 = sign2 + unsigned2\n",
    "    \n",
    "#     print(\"adjusted:{}\\t{}\".format(adjusted1, adjusted2))\n",
    "    # result is a fixed point number with a size of 17\n",
    "    overflow, result = unsigned_fixed_add(adjusted1, adjusted2)\n",
    "    if overflow:\n",
    "        raise Exception(\"overflow detected\")\n",
    "    \n",
    "    return result\n",
    "\n",
    "def _helper_mul_add(adder_array):\n",
    "    \"\"\" add an array of 63-bit fixed point number\n",
    "    return:\n",
    "        a 64-bit fixed point number\n",
    "    \"\"\"\n",
    "    if len(adder_array) == 0:\n",
    "        return '0' * 64\n",
    "    elif len(adder_array) == 1:\n",
    "        return '0' + adder_array[0]\n",
    "    else:\n",
    "        carry = 0\n",
    "        last_ele = adder_array[0]\n",
    "        \n",
    "        for i in range(1, len(adder_array)):\n",
    "            this_carry, temp_result = unsigned_fixed_add(adder_array[i], last_ele)\n",
    "            carry += this_carry\n",
    "            last_ele = temp_result\n",
    "            \n",
    "        if carry == 0:\n",
    "            result = '0' + last_ele\n",
    "        else:\n",
    "            result = '1' + last_ele\n",
    "        assert len(result) == 64\n",
    "        \n",
    "        return result\n",
    "\n",
    "def _helper_filler1(x):\n",
    "    \"\"\"\n",
    "    fill a 16 bit fixed point to 32 bit,\n",
    "    0 or 1 depends on the sign bit\n",
    "    x: input 16bit str\n",
    "    return:\n",
    "        a 32 bit str\n",
    "    \"\"\"\n",
    "    if x[0] == '0':\n",
    "        return 16 * '0' + x\n",
    "    else: # '1'\n",
    "        return 16 * '1' + x\n",
    "    \n",
    "def _helper_filler2(x, int_before=15, int_after=16):\n",
    "    \"\"\"\n",
    "    fill 32 bit number to 61 bits, fill 0s\n",
    "    x: 32bit str\n",
    "    return:\n",
    "        63 bit str\n",
    "    \"\"\"\n",
    "    return int_before * '0' + x + int_after * '0'\n",
    "    \n",
    "\n",
    "def fixed_mul(x1, x2, integer_x1=8, integer_x2=8, integer_result=8):\n",
    "    \"\"\"\n",
    "    fixed point multiplication\n",
    "    input: x1, x2 -> 16 bit fixed point\n",
    "    integer_x1 / x2 : where is the input decimal point\n",
    "    integer_result: where is the result decimal point\n",
    "    return:\n",
    "        result -> 16 bit fixed point\n",
    "    \"\"\"\n",
    "    adders = []\n",
    "    \n",
    "    fill_x1 = _helper_filler1(x1)\n",
    "    fill_x2 = _helper_filler1(x2)\n",
    "    \n",
    "    # save all adders\n",
    "    for i in range(32):\n",
    "        if fill_x1[i] == '1':\n",
    "            before = i\n",
    "            after = 31 - i\n",
    "            filled_num = _helper_filler2(fill_x2, before, after)\n",
    "            adders.append(filled_num)\n",
    "    \n",
    "#     print(\"adders:\")\n",
    "#     for item in adders:\n",
    "#         print(item)\n",
    "\n",
    "    # add them up, a 30 bit number\n",
    "    add_result = _helper_mul_add(adders)\n",
    "    cut_result = add_result[32:]\n",
    "#     print(\"add_result:\", add_result)\n",
    "    # pick digits\n",
    "    int_part = integer_x1 + integer_x2\n",
    "    new_int_start = int_part - integer_result + 1 # sign 1 bit\n",
    "    \n",
    "    result = cut_result[new_int_start: new_int_start + 16]\n",
    "    \n",
    "    return result\n",
    "#     print(\"try:\")\n",
    "#     for i in range(15):\n",
    "#         print(fixed2float('1' + ))\n",
    "#     if (sign_x1 == '0' and sign_x2 == '0') or \\\n",
    "#         (sign_x1 == '1' and sign_x2 == '1'):\n",
    "#         # positive\n",
    "#         return '0' + num_result\n",
    "#     else: # negative\n",
    "#         return '1' + num_result\n",
    "    \n",
    "def fixed_shift_right(x, shift_size, keep_len=True):\n",
    "    \"\"\"\n",
    "    x: string of unsigned fixed point number\n",
    "    keep_len: whether maintain the original length\n",
    "    return:\n",
    "        shifted unsigned fixed point number (a string)\n",
    "    \"\"\"\n",
    "    length = len(x)\n",
    "    \n",
    "    if keep_len:\n",
    "        result = shift_size * '0' + x[shift_size:]\n",
    "    else:\n",
    "        result = x[shift_size:]\n",
    "        \n",
    "    return result\n",
    "    \n",
    "\n",
    "def relu():\n",
    "    pass\n",
    "\n",
    "def reduct_one(x):\n",
    "    \"\"\"given a fixed point number, reduct one from it\n",
    "    x: input string of fixed point\n",
    "    return:\n",
    "        string of fixed point\n",
    "    \"\"\"\n",
    "    result = '' \n",
    "    carry = 0\n",
    "    \n",
    "    # reduct 1 and if carry == 0, break\n",
    "    for i in reversed(range(len(x))):\n",
    "        if x[i] == '0':\n",
    "            if carry == 0:\n",
    "                result = '1' + result\n",
    "                carry = 1\n",
    "            else: # carry == 1\n",
    "                result = '0' + result\n",
    "                carry = 1\n",
    "        elif x[i] == '1':\n",
    "            if carry == 0:\n",
    "                result = '0' + result\n",
    "                # copy rest\n",
    "                for j in reversed(range(i)):\n",
    "                    result = x[j] + result\n",
    "                break\n",
    "            else: # carry == 1\n",
    "                result = '0' + result\n",
    "                # copy rest\n",
    "                for j in reversed(range(i)):\n",
    "                    result = x[j] + result\n",
    "                break\n",
    "#     print(\"result:\\t\\t{}\".format(result))\n",
    "    return result\n",
    "\n",
    "def reverse(x):\n",
    "    \"\"\"given a fixed point number, reverse 0 and 1\n",
    "    x: input string of fixed point\n",
    "    return:\n",
    "        string of fixed point\n",
    "    \"\"\"\n",
    "    result = ''\n",
    "    for i in range(len(x)):\n",
    "        if x[i] == '0':\n",
    "            result = result + '1'\n",
    "        else:\n",
    "            result = result + '0'\n",
    "    \n",
    "#     print(\"reversed:\\t{}\".format(result))\n",
    "    return result\n",
    "        \n",
    "def fixed2float(x, integer_x=8):\n",
    "    \"\"\"fixed point to floating point\n",
    "    x: string of signed fixed point number \n",
    "    integer_x: how many digits do we give to integer part\n",
    "        e.g. sign 1 bit, integer 8 bits, decimal 7 bits\n",
    "    return:\n",
    "        a floating point number\n",
    "    \"\"\"\n",
    "    if x[0] == '0':\n",
    "        sign = 1\n",
    "    else:\n",
    "        sign = -1\n",
    "    \n",
    "#     print(\"x: {}\".format(x))\n",
    "    unsigned = 0\n",
    "    shift_size = len(x) - 1 - integer_x # == demical digits number\n",
    "    for i in range(len(x) - 1): # e.g. 15\n",
    "        if x[i + 1] == '1': # ignore sign \n",
    "            new_fl = 2 ** (len(x) - 2 - i -shift_size)\n",
    "            unsigned += new_fl\n",
    "    \n",
    "    if sign == 1:\n",
    "        result = unsigned\n",
    "    else:\n",
    "        result = unsigned - 32768 * (2 ** (-shift_size))\n",
    "    \n",
    "    return result"
   ]
  },
  {
   "cell_type": "code",
   "execution_count": 89,
   "metadata": {},
   "outputs": [
    {
     "name": "stdout",
     "output_type": "stream",
     "text": [
      "reverse:  1111100001100110\n",
      "reverse:  1111111001001000\n",
      "1111100001100111 1111111001001001\n",
      "0001101000001110\n",
      "52.109375 actual result: 52.136\n"
     ]
    }
   ],
   "source": [
    "x1 = -15.2\n",
    "x2 = -3.43\n",
    "fixed_x1 = dec_to_bin(x1, int_digit=8, decimal_digit=7)\n",
    "fixed_x2 = dec_to_bin(x2, int_digit=8, decimal_digit=7)\n",
    "print(fixed_x1, fixed_x2)\n",
    "result = fixed_mul(fixed_x1, fixed_x2, integer_x1=8, integer_x2=8, integer_result=8)\n",
    "print(result)\n",
    "print(fixed2float(result), \"actual result:\", x1 * x2)"
   ]
  },
  {
   "cell_type": "markdown",
   "metadata": {},
   "source": [
    "## unsigned fixed add unit test"
   ]
  },
  {
   "cell_type": "code",
   "execution_count": 55,
   "metadata": {},
   "outputs": [
    {
     "name": "stdout",
     "output_type": "stream",
     "text": [
      "2 \t (0, '111111111111111')\n"
     ]
    }
   ],
   "source": [
    "x1 = '010101010101010' # len = 15\n",
    "x2 = '101010101010101' # len = 15\n",
    "\n",
    "result = unsigned_fixed_add(x1, x2)\n",
    "print(len(result), '\\t', result)"
   ]
  },
  {
   "cell_type": "code",
   "execution_count": 56,
   "metadata": {},
   "outputs": [
    {
     "name": "stdout",
     "output_type": "stream",
     "text": [
      "(0, '1111111111111111')\n",
      "(1, '0000000000000011')\n"
     ]
    }
   ],
   "source": [
    "print(unsigned_fixed_add('0000000000000000', '1111111111111111')) # 0 + (-1)\n",
    "print(unsigned_fixed_add('0000000000000100', '1111111111111111')) # 4 + (-1)"
   ]
  },
  {
   "cell_type": "markdown",
   "metadata": {},
   "source": [
    "## fixed add unit test"
   ]
  },
  {
   "cell_type": "code",
   "execution_count": 57,
   "metadata": {},
   "outputs": [
    {
     "name": "stdout",
     "output_type": "stream",
     "text": [
      "16 \t 1011111111111111\n",
      "float1:\t85.328125\tfloat2:\t-213.3359375\tfixed_result:\t-128.0078125\tactual_result:\t-128.0078125\t\n"
     ]
    }
   ],
   "source": [
    "x1 = '0010101010101010' # len = 15\n",
    "x2 = '1001010101010101' # len = 15\n",
    "\n",
    "result = fixed_add(x1, x2, 8, 8)\n",
    "print(len(result), '\\t', result)\n",
    "\n",
    "fl_x1 = fixed2float(x1, integer_x=8)\n",
    "fl_x2 = fixed2float(x2)\n",
    "fl_result = fixed2float(result)\n",
    "actual_result = fl_x1 + fl_x2\n",
    "print(\"float1:\\t{}\\tfloat2:\\t{}\\tfixed_result:\\t{}\\tactual_result:\\t{}\\t\".format(\n",
    "        fl_x1, fl_x2, fl_result, actual_result))"
   ]
  },
  {
   "cell_type": "markdown",
   "metadata": {},
   "source": [
    "## fixed2float unit test"
   ]
  },
  {
   "cell_type": "code",
   "execution_count": 54,
   "metadata": {},
   "outputs": [
    {
     "name": "stdout",
     "output_type": "stream",
     "text": [
      "fixed point: 0000000001110000\n",
      "floating point: 0.875\n"
     ]
    }
   ],
   "source": [
    "fixed = dec_to_bin(0.875, int_digit=8, decimal_digit=7)\n",
    "fl = fixed2float(fixed, integer_x=8)\n",
    "\n",
    "print(\"fixed point: {}\\nfloating point: {}\".format(fixed, fl))"
   ]
  },
  {
   "cell_type": "code",
   "execution_count": null,
   "metadata": {},
   "outputs": [],
   "source": [
    "0 00000000 111 0000\n",
    "1 11111111 000 1111\n",
    "1 11111111 001 0000"
   ]
  },
  {
   "cell_type": "code",
   "execution_count": 12,
   "metadata": {},
   "outputs": [
    {
     "data": {
      "text/plain": [
       "'1111111110000000'"
      ]
     },
     "execution_count": 12,
     "metadata": {},
     "output_type": "execute_result"
    }
   ],
   "source": [
    "dec_to_bin(-1, int_digit=8, decimal_digit=7)"
   ]
  },
  {
   "cell_type": "code",
   "execution_count": 4,
   "metadata": {},
   "outputs": [],
   "source": [
    "def add_1(complement):\n",
    "    n = len(complement)\n",
    "    carry = 1\n",
    "    i = n - 1\n",
    "    complement = list(complement)\n",
    "\n",
    "    while i > 0 and carry:\n",
    "        if complement[i] == '0' and carry == 1:\n",
    "            complement[i] = '1'\n",
    "            carry = 0\n",
    "        if complement[i] == '1' and carry == 1:\n",
    "            complement[i] = '0'\n",
    "        i -= 1\n",
    "        #print(carry)\n",
    "\n",
    "    return \"\".join(complement)"
   ]
  },
  {
   "cell_type": "code",
   "execution_count": 15,
   "metadata": {},
   "outputs": [
    {
     "data": {
      "text/plain": [
       "'1111111110010000'"
      ]
     },
     "execution_count": 15,
     "metadata": {},
     "output_type": "execute_result"
    }
   ],
   "source": [
    "add_1('1111111110001111')"
   ]
  },
  {
   "cell_type": "code",
   "execution_count": 40,
   "metadata": {},
   "outputs": [],
   "source": [
    "def dec_to_bin(x, int_digit, decimal_digit, decimal_point=False):\n",
    "    \"\"\" given a float / int -> return string of fixed point\n",
    "    \n",
    "    :param x: original number\n",
    "    :param int_digit: the number of digits of integer part.\n",
    "    :param decimal_digit: the number of digits of decimal part.\n",
    "    :return:\n",
    "    \"\"\"\n",
    "    decimal = decimal_dec_to_bin(x, decimal_digit)\n",
    "    \n",
    "    if x >= 0:\n",
    "        sign = 1\n",
    "    else:\n",
    "        sign = -1\n",
    "        x = -x\n",
    "        \n",
    "    # suppose x > 0\n",
    "    integer = bin(int(x))[2:]\n",
    "    if integer == \"0\":\n",
    "        integer = \"\"\n",
    "    add_zero_int = int_digit - len(integer)\n",
    "    add_zero_integer_complement =\"0\" + \"0\" * add_zero_int + integer\n",
    "        \n",
    "    add_zero_dec = decimal_digit - len(decimal)\n",
    "    add_zero_dec = decimal + \"0\" * add_zero_dec\n",
    "    \n",
    "    if sign == 1: # x > 0\n",
    "        if decimal_point:\n",
    "            return add_zero_integer_complement + \".\" + add_zero_dec\n",
    "        else:\n",
    "            return add_zero_integer_complement + add_zero_dec\n",
    "    else: # x < 0\n",
    "        if decimal_point:\n",
    "            raise Exception(\"negative numbers doesn't support decimal point currently\")\n",
    "        else:\n",
    "            temp_result = add_zero_integer_complement + add_zero_dec\n",
    "            temp_result_reverse = \"\".join(str(0 if int(r) == 1 else 1) for r in temp_result) # radix-minus-one complement\n",
    "            print(\"reverse: \", temp_result_reverse)\n",
    "            result = add_1(temp_result_reverse)\n",
    "            return result\n",
    "    \n",
    "def decimal_dec_to_bin(x, decimal_digit):\n",
    "    \"\"\"\n",
    "    :param x: is the original number\n",
    "    :param decimal_digit: the number of digits of decimal part.\n",
    "    :return:\n",
    "    \"\"\"\n",
    "    x = abs(x)\n",
    "    x -= int(x)\n",
    "    bins = \"\"\n",
    "    i = 0\n",
    "    while x and i < decimal_digit:\n",
    "        x *= 2\n",
    "        bins += \"1\" if x >= 1. else \"0\"\n",
    "        x -= int(x)\n",
    "        i += 1\n",
    "    return bins\n",
    "\n",
    "\n",
    " \n",
    "def int_digit(x):\n",
    "    \"\"\"given an input x, detect how much integer digit it needs\n",
    "    x: a arbitary number\n",
    "    \"\"\"\n",
    "    if x >= 32767 or x <= -32768:\n",
    "        raise Exception(\"digit out of range for fixed point 16\")\n",
    "    else:\n",
    "        pass\n",
    "    \n",
    "    exp_range = [1, 2, 4, 8, 16, 32, 64, 128, 256, 512, 1024, 2048,\n",
    "             4096, 8192, 16384,32768]\n",
    "    \n",
    "    for i, r in enumerate(exp_range):\n",
    "        if abs(int(x)) <= r - 1:\n",
    "            return i\n",
    "    raise Exception(\"digit out of range for fixed point 16\")\n",
    "    \n",
    "    return 0\n"
   ]
  },
  {
   "cell_type": "code",
   "execution_count": 48,
   "metadata": {},
   "outputs": [
    {
     "data": {
      "text/plain": [
       "7"
      ]
     },
     "execution_count": 48,
     "metadata": {},
     "output_type": "execute_result"
    }
   ],
   "source": [
    "int_digit(-108.875)"
   ]
  },
  {
   "cell_type": "code",
   "execution_count": 53,
   "metadata": {},
   "outputs": [
    {
     "name": "stdout",
     "output_type": "stream",
     "text": [
      "reverse:  1011100111101110\n",
      "-2242.125\n"
     ]
    }
   ],
   "source": [
    "num = -2242.22\n",
    "int_num = int_digit(num)\n",
    "fixed = dec_to_bin(num, int_digit=int_num, decimal_digit=15 - int_num)\n",
    "# 1 11111111 001 0000\n",
    "print(fixed2float(fixed,int_num))"
   ]
  },
  {
   "cell_type": "code",
   "execution_count": 6,
   "metadata": {},
   "outputs": [
    {
     "data": {
      "text/plain": [
       "'0b0'"
      ]
     },
     "execution_count": 6,
     "metadata": {},
     "output_type": "execute_result"
    }
   ],
   "source": [
    "bin(int(-0.875))"
   ]
  },
  {
   "cell_type": "markdown",
   "metadata": {},
   "source": [
    "## fixed multiplication unit test"
   ]
  },
  {
   "cell_type": "code",
   "execution_count": null,
   "metadata": {},
   "outputs": [],
   "source": []
  }
 ],
 "metadata": {
  "kernelspec": {
   "display_name": "Python 3",
   "language": "python",
   "name": "python3"
  },
  "language_info": {
   "codemirror_mode": {
    "name": "ipython",
    "version": 3
   },
   "file_extension": ".py",
   "mimetype": "text/x-python",
   "name": "python",
   "nbconvert_exporter": "python",
   "pygments_lexer": "ipython3",
   "version": "3.7.3"
  }
 },
 "nbformat": 4,
 "nbformat_minor": 2
}
