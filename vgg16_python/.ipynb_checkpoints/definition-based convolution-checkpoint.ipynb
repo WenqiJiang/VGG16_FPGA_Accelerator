{
 "cells": [
  {
   "cell_type": "code",
   "execution_count": 18,
   "metadata": {},
   "outputs": [],
   "source": [
    "import numpy as np\n",
    "\n",
    "dir_name = './weights_npy/'\n",
    "layer_names = ['convolution2d_1',\n",
    "         'convolution2d_2',\n",
    "         'convolution2d_3',\n",
    "         'convolution2d_4',\n",
    "         'convolution2d_5',\n",
    "         'convolution2d_6',\n",
    "         'convolution2d_7',\n",
    "         'convolution2d_8',\n",
    "         'convolution2d_9',\n",
    "         'convolution2d_10',\n",
    "         'convolution2d_11',\n",
    "         'convolution2d_12',\n",
    "         'convolution2d_13',\n",
    "         'dense_1',\n",
    "         'dense_2',\n",
    "         'dense_3']"
   ]
  },
  {
   "cell_type": "code",
   "execution_count": 20,
   "metadata": {},
   "outputs": [
    {
     "name": "stdout",
     "output_type": "stream",
     "text": [
      "(64, 3, 3, 3)\n",
      "(64,)\n",
      "(64, 3, 3, 64)\n",
      "(64,)\n",
      "(128, 3, 3, 64)\n",
      "(128,)\n",
      "(128, 3, 3, 128)\n",
      "(128,)\n",
      "(256, 3, 3, 128)\n",
      "(256,)\n",
      "(256, 3, 3, 256)\n",
      "(256,)\n",
      "(256, 3, 3, 256)\n",
      "(256,)\n",
      "(512, 3, 3, 256)\n",
      "(512,)\n",
      "(512, 3, 3, 512)\n",
      "(512,)\n",
      "(512, 3, 3, 512)\n",
      "(512,)\n",
      "(512, 3, 3, 512)\n",
      "(512,)\n",
      "(512, 3, 3, 512)\n",
      "(512,)\n",
      "(512, 3, 3, 512)\n",
      "(512,)\n",
      "(25088, 4096)\n",
      "(4096,)\n",
      "(4096, 4096)\n",
      "(4096,)\n",
      "(4096, 1000)\n",
      "(1000,)\n"
     ]
    }
   ],
   "source": [
    "for i in range(len(layer_names)):\n",
    "    kernel = np.load(dir_name + layer_names[i] + 'kernel.npy')\n",
    "    bias = np.load(dir_name + layer_names[i] + 'bias.npy')\n",
    "    print kernel.shape\n",
    "    print bias.shape"
   ]
  },
  {
   "cell_type": "code",
   "execution_count": 24,
   "metadata": {},
   "outputs": [
    {
     "data": {
      "text/plain": [
       "(1, 224, 224, 3)"
      ]
     },
     "execution_count": 24,
     "metadata": {},
     "output_type": "execute_result"
    }
   ],
   "source": [
    "import cv2\n",
    "from matplotlib import pyplot as plt\n",
    "import matplotlib.image as mpimg\n",
    "\n",
    "im = cv2.resize(cv2.imread('cat2.jpg'), (224, 224)).astype(np.float32)\n",
    "\n",
    "im[:,:,0] -= 103.939\n",
    "im[:,:,1] -= 116.779\n",
    "im[:,:,2] -= 123.68\n",
    "# im = im.transpose((2,0,1))\n",
    "im = np.expand_dims(im, axis=0)\n",
    "im.shape"
   ]
  },
  {
   "cell_type": "code",
   "execution_count": 29,
   "metadata": {},
   "outputs": [
    {
     "name": "stdout",
     "output_type": "stream",
     "text": [
      "(1, 224, 224, 64)\n",
      "(1, 224, 224, 64)\n",
      "(1, 113, 113, 64)\n"
     ]
    },
    {
     "ename": "KeyboardInterrupt",
     "evalue": "",
     "output_type": "error",
     "traceback": [
      "\u001b[0;31m---------------------------------------------------------------------------\u001b[0m",
      "\u001b[0;31mKeyboardInterrupt\u001b[0m                         Traceback (most recent call last)",
      "\u001b[0;32m<ipython-input-29-5d6eca367632>\u001b[0m in \u001b[0;36m<module>\u001b[0;34m()\u001b[0m\n\u001b[1;32m     20\u001b[0m     \u001b[0mbias\u001b[0m \u001b[0;34m=\u001b[0m \u001b[0mnp\u001b[0m\u001b[0;34m.\u001b[0m\u001b[0mload\u001b[0m\u001b[0;34m(\u001b[0m\u001b[0mdir_name\u001b[0m \u001b[0;34m+\u001b[0m \u001b[0mlayer_names\u001b[0m\u001b[0;34m[\u001b[0m\u001b[0mi\u001b[0m\u001b[0;34m]\u001b[0m \u001b[0;34m+\u001b[0m \u001b[0;34m'bias.npy'\u001b[0m\u001b[0;34m)\u001b[0m\u001b[0;34m\u001b[0m\u001b[0m\n\u001b[1;32m     21\u001b[0m     \u001b[0mpad_width\u001b[0m \u001b[0;34m=\u001b[0m \u001b[0;36m1\u001b[0m\u001b[0;34m\u001b[0m\u001b[0m\n\u001b[0;32m---> 22\u001b[0;31m     \u001b[0mx\u001b[0m \u001b[0;34m=\u001b[0m \u001b[0mconv_forward\u001b[0m\u001b[0;34m(\u001b[0m\u001b[0mx\u001b[0m\u001b[0;34m,\u001b[0m \u001b[0mkernel\u001b[0m\u001b[0;34m,\u001b[0m \u001b[0mbias\u001b[0m\u001b[0;34m,\u001b[0m \u001b[0mpad_width\u001b[0m\u001b[0;34m,\u001b[0m \u001b[0mstride\u001b[0m\u001b[0;34m)\u001b[0m\u001b[0;34m\u001b[0m\u001b[0m\n\u001b[0m\u001b[1;32m     23\u001b[0m     \u001b[0mx\u001b[0m\u001b[0;34m,\u001b[0m \u001b[0m_\u001b[0m \u001b[0;34m=\u001b[0m \u001b[0mrelu_forward\u001b[0m\u001b[0;34m(\u001b[0m\u001b[0mx\u001b[0m\u001b[0;34m)\u001b[0m\u001b[0;34m\u001b[0m\u001b[0m\n\u001b[1;32m     24\u001b[0m     \u001b[0;32mprint\u001b[0m\u001b[0;34m(\u001b[0m\u001b[0mx\u001b[0m\u001b[0;34m.\u001b[0m\u001b[0mshape\u001b[0m\u001b[0;34m)\u001b[0m\u001b[0;34m\u001b[0m\u001b[0m\n",
      "\u001b[0;32m/home/jwq/VGG16_FPGA_Accelerator/winograd_python/layer_funcs.py\u001b[0m in \u001b[0;36mconv_forward\u001b[0;34m(x, w, b, pad, stride)\u001b[0m\n\u001b[1;32m    164\u001b[0m \u001b[0;34m\u001b[0m\u001b[0m\n\u001b[1;32m    165\u001b[0m     \u001b[0;32mfor\u001b[0m \u001b[0mbt\u001b[0m \u001b[0;32min\u001b[0m \u001b[0mrange\u001b[0m\u001b[0;34m(\u001b[0m\u001b[0mbatch\u001b[0m\u001b[0;34m)\u001b[0m\u001b[0;34m:\u001b[0m\u001b[0;34m\u001b[0m\u001b[0m\n\u001b[0;32m--> 166\u001b[0;31m         \u001b[0;32mfor\u001b[0m \u001b[0mi\u001b[0m \u001b[0;32min\u001b[0m \u001b[0mrange\u001b[0m\u001b[0;34m(\u001b[0m\u001b[0mheight\u001b[0m\u001b[0;34m)\u001b[0m\u001b[0;34m:\u001b[0m\u001b[0;34m\u001b[0m\u001b[0m\n\u001b[0m\u001b[1;32m    167\u001b[0m             \u001b[0;32mfor\u001b[0m \u001b[0mj\u001b[0m \u001b[0;32min\u001b[0m \u001b[0mrange\u001b[0m\u001b[0;34m(\u001b[0m\u001b[0mwidth\u001b[0m\u001b[0;34m)\u001b[0m\u001b[0;34m:\u001b[0m\u001b[0;34m\u001b[0m\u001b[0m\n\u001b[1;32m    168\u001b[0m                 \u001b[0;32mfor\u001b[0m \u001b[0mcn\u001b[0m \u001b[0;32min\u001b[0m \u001b[0mrange\u001b[0m\u001b[0;34m(\u001b[0m\u001b[0mchannels\u001b[0m\u001b[0;34m)\u001b[0m\u001b[0;34m:\u001b[0m\u001b[0;34m\u001b[0m\u001b[0m\n",
      "\u001b[0;32m/home/jwq/anaconda3/envs/keras1/lib/python2.7/site-packages/numpy/core/fromnumeric.pyc\u001b[0m in \u001b[0;36msum\u001b[0;34m(a, axis, dtype, out, keepdims, initial)\u001b[0m\n\u001b[1;32m   2074\u001b[0m \u001b[0;34m\u001b[0m\u001b[0m\n\u001b[1;32m   2075\u001b[0m     return _wrapreduction(a, np.add, 'sum', axis, dtype, out, keepdims=keepdims,\n\u001b[0;32m-> 2076\u001b[0;31m                           initial=initial)\n\u001b[0m\u001b[1;32m   2077\u001b[0m \u001b[0;34m\u001b[0m\u001b[0m\n\u001b[1;32m   2078\u001b[0m \u001b[0;34m\u001b[0m\u001b[0m\n",
      "\u001b[0;32m/home/jwq/anaconda3/envs/keras1/lib/python2.7/site-packages/numpy/core/fromnumeric.pyc\u001b[0m in \u001b[0;36m_wrapreduction\u001b[0;34m(obj, ufunc, method, axis, dtype, out, **kwargs)\u001b[0m\n\u001b[1;32m     84\u001b[0m                 \u001b[0;32mreturn\u001b[0m \u001b[0mreduction\u001b[0m\u001b[0;34m(\u001b[0m\u001b[0maxis\u001b[0m\u001b[0;34m=\u001b[0m\u001b[0maxis\u001b[0m\u001b[0;34m,\u001b[0m \u001b[0mout\u001b[0m\u001b[0;34m=\u001b[0m\u001b[0mout\u001b[0m\u001b[0;34m,\u001b[0m \u001b[0;34m**\u001b[0m\u001b[0mpasskwargs\u001b[0m\u001b[0;34m)\u001b[0m\u001b[0;34m\u001b[0m\u001b[0m\n\u001b[1;32m     85\u001b[0m \u001b[0;34m\u001b[0m\u001b[0m\n\u001b[0;32m---> 86\u001b[0;31m     \u001b[0;32mreturn\u001b[0m \u001b[0mufunc\u001b[0m\u001b[0;34m.\u001b[0m\u001b[0mreduce\u001b[0m\u001b[0;34m(\u001b[0m\u001b[0mobj\u001b[0m\u001b[0;34m,\u001b[0m \u001b[0maxis\u001b[0m\u001b[0;34m,\u001b[0m \u001b[0mdtype\u001b[0m\u001b[0;34m,\u001b[0m \u001b[0mout\u001b[0m\u001b[0;34m,\u001b[0m \u001b[0;34m**\u001b[0m\u001b[0mpasskwargs\u001b[0m\u001b[0;34m)\u001b[0m\u001b[0;34m\u001b[0m\u001b[0m\n\u001b[0m\u001b[1;32m     87\u001b[0m \u001b[0;34m\u001b[0m\u001b[0m\n\u001b[1;32m     88\u001b[0m \u001b[0;34m\u001b[0m\u001b[0m\n",
      "\u001b[0;31mKeyboardInterrupt\u001b[0m: "
     ]
    }
   ],
   "source": [
    "from layer_funcs import affine_forward, max_pool_forward, conv_forward, relu_forward\n",
    "\n",
    "x = im\n",
    "stride = 1\n",
    "\n",
    "for i in range(0, 2):\n",
    "    kernel = np.load(dir_name + layer_names[i] + 'kernel.npy')\n",
    "    bias = np.load(dir_name + layer_names[i] + 'bias.npy')\n",
    "    pad_width = 1\n",
    "    x = conv_forward(x, kernel, bias, pad_width, stride)\n",
    "    x, _ = relu_forward(x)\n",
    "    print(x.shape)\n",
    "    \n",
    "x = max_pool_forward(x, pool_size=0, stride=2)\n",
    "print x.shape\n",
    "\n",
    "\n",
    "for i in range(2, 4):\n",
    "    kernel = np.load(dir_name + layer_names[i] + 'kernel.npy')\n",
    "    bias = np.load(dir_name + layer_names[i] + 'bias.npy')\n",
    "    pad_width = 1\n",
    "    x = conv_forward(x, kernel, bias, pad_width, stride)\n",
    "    x, _ = relu_forward(x)\n",
    "    print(x.shape)\n",
    "    \n",
    "x = max_pool_forward(x, pool_size=0, stride=2)\n",
    "print x.shape\n",
    "\n",
    "for i in range(4, 7):\n",
    "    kernel = np.load(dir_name + layer_names[i] + 'kernel.npy')\n",
    "    bias = np.load(dir_name + layer_names[i] + 'bias.npy')\n",
    "    pad_width = 1\n",
    "    x = conv_forward(x, kernel, bias, pad_width, stride)\n",
    "    x, _ = relu_forward(x)\n",
    "    print(x.shape)\n",
    "    \n",
    "x = max_pool_forward(x, pool_size=0, stride=2)\n",
    "print x.shape\n",
    "\n",
    "for i in range(7, 10):\n",
    "    kernel = np.load(dir_name + layer_names[i] + 'kernel.npy')\n",
    "    bias = np.load(dir_name + layer_names[i] + 'bias.npy')\n",
    "    pad_width = 1\n",
    "    x = conv_forward(x, kernel, bias, pad_width, stride)\n",
    "    x, _ = relu_forward(x)\n",
    "    print(x.shape)\n",
    "    \n",
    "x = max_pool_forward(x, pool_size=0, stride=2)\n",
    "print x.shape\n",
    "\n",
    "for i in range(10, 13):\n",
    "    kernel = np.load(dir_name + layer_names[i] + 'kernel.npy')\n",
    "    bias = np.load(dir_name + layer_names[i] + 'bias.npy')\n",
    "    pad_width = 1\n",
    "    x = conv_forward(x, kernel, bias, pad_width, stride)\n",
    "    x, _ = relu_forward(x)\n",
    "    print(x.shape)\n",
    "    \n",
    "x = max_pool_forward(x, pool_size=0, stride=2)\n",
    "print x.shape\n",
    "\n",
    "for i in range(13, 16):\n",
    "    kernel = np.load(dir_name + layer_names[i] + 'kernel.npy')\n",
    "    bias = np.load(dir_name + layer_names[i] + 'bias.npy')\n",
    "    x, _ = affine_forward(x, kernel, bias)\n",
    "    x, _ = relu_forward(x)\n",
    "    print x.shape\n",
    "\n",
    "result = x"
   ]
  },
  {
   "cell_type": "code",
   "execution_count": null,
   "metadata": {},
   "outputs": [],
   "source": [
    "max_pool_forward(np.zeros((1, 224, 224, 64)), 0, 2):"
   ]
  }
 ],
 "metadata": {
  "kernelspec": {
   "display_name": "Python 2",
   "language": "python",
   "name": "python2"
  },
  "language_info": {
   "codemirror_mode": {
    "name": "ipython",
    "version": 2
   },
   "file_extension": ".py",
   "mimetype": "text/x-python",
   "name": "python",
   "nbconvert_exporter": "python",
   "pygments_lexer": "ipython2",
   "version": "2.7.16"
  }
 },
 "nbformat": 4,
 "nbformat_minor": 2
}
