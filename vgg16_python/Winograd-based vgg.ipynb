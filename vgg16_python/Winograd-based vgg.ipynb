{
 "cells": [
  {
   "cell_type": "code",
   "execution_count": 3,
   "metadata": {},
   "outputs": [],
   "source": [
    "import numpy as np\n",
    "\n",
    "dir_name = './weights_npy/'\n",
    "layer_names = ['block1_conv1',\n",
    "         'block1_conv2',\n",
    "         'block2_conv1',\n",
    "         'block2_conv2',\n",
    "         'block3_conv1',\n",
    "         'block3_conv2',\n",
    "         'block3_conv3',\n",
    "         'block4_conv1',\n",
    "         'block4_conv2',\n",
    "         'block4_conv3',\n",
    "         'block5_conv1',\n",
    "         'block5_conv2',\n",
    "         'block5_conv3',\n",
    "         'fc1',\n",
    "         'fc2',\n",
    "         'predictions']"
   ]
  },
  {
   "cell_type": "code",
   "execution_count": 4,
   "metadata": {},
   "outputs": [
    {
     "name": "stdout",
     "output_type": "stream",
     "text": [
      "(64, 3, 3, 3)\n",
      "(64,)\n",
      "(64, 3, 3, 64)\n",
      "(64,)\n",
      "(128, 3, 3, 64)\n",
      "(128,)\n",
      "(128, 3, 3, 128)\n",
      "(128,)\n",
      "(256, 3, 3, 128)\n",
      "(256,)\n",
      "(256, 3, 3, 256)\n",
      "(256,)\n",
      "(256, 3, 3, 256)\n",
      "(256,)\n",
      "(512, 3, 3, 256)\n",
      "(512,)\n",
      "(512, 3, 3, 512)\n",
      "(512,)\n",
      "(512, 3, 3, 512)\n",
      "(512,)\n",
      "(512, 3, 3, 512)\n",
      "(512,)\n",
      "(512, 3, 3, 512)\n",
      "(512,)\n",
      "(512, 3, 3, 512)\n",
      "(512,)\n",
      "(25088, 4096)\n",
      "(4096,)\n",
      "(4096, 4096)\n",
      "(4096,)\n",
      "(4096, 1000)\n",
      "(1000,)\n"
     ]
    }
   ],
   "source": [
    "for i in range(len(layer_names)):\n",
    "    kernel = np.load(dir_name + layer_names[i] + 'kernel.npy')\n",
    "    bias = np.load(dir_name + layer_names[i] + 'bias.npy')\n",
    "    print kernel.shape\n",
    "    print bias.shape"
   ]
  },
  {
   "cell_type": "markdown",
   "metadata": {},
   "source": [
    "# Let's try a simple definition-based convolution here\n",
    "We have a (4, ) input and a (3, ) filter: the output has a dimension of (2, )"
   ]
  },
  {
   "cell_type": "code",
   "execution_count": 7,
   "metadata": {},
   "outputs": [
    {
     "name": "stdout",
     "output_type": "stream",
     "text": [
      "[ 38.  56.]\n"
     ]
    }
   ],
   "source": [
    "in_FM = np.array([1,2,3,4]).reshape((4,1))\n",
    "filt = np.array([5,6,7]).reshape((3,1))\n",
    "\n",
    "output = np.zeros(2)\n",
    "for i in range(2):\n",
    "    output[i] = np.sum([filt[f_index] * in_FM[i + f_index] for f_index in range(len(filt))])\n",
    "    \n",
    "print output"
   ]
  },
  {
   "cell_type": "markdown",
   "metadata": {},
   "source": [
    "# A simple example for 1D Winograd\n",
    "We have a (4, ) input and a (3, ) filter: the output has a dimension of (2, )"
   ]
  },
  {
   "cell_type": "code",
   "execution_count": 9,
   "metadata": {},
   "outputs": [
    {
     "name": "stdout",
     "output_type": "stream",
     "text": [
      "[[ 38.]\n",
      " [ 56.]]\n"
     ]
    }
   ],
   "source": [
    "A = np.array([[1,1,1,0],[0,1,-1,-1]]).T\n",
    "B = np.array([[1,0,-1,0],[0,1,1,0],[0,-1,1,0],[0,1,0,-1]]).T\n",
    "G = np.array([[1,0,0],[0.5,0.5,0.5],[0.5,-0.5,0.5],[0,0,1]])\n",
    "\n",
    "in_FM = np.array([1,2,3,4]).reshape((4,1))\n",
    "filt = np.array([5,6,7]).reshape((3,1))\n",
    "\n",
    "output = A.T.dot((G.dot(filt)) * (B.T.dot(in_FM)))\n",
    "print output"
   ]
  },
  {
   "cell_type": "code",
   "execution_count": 11,
   "metadata": {},
   "outputs": [
    {
     "name": "stdout",
     "output_type": "stream",
     "text": [
      "[[ 38.]\n",
      " [ 56.]]\n"
     ]
    }
   ],
   "source": [
    "A = np.array([[1,1,1,0],[0,1,-1,-1]]).T\n",
    "B = np.array([[1,0,-1,0],[0,1,1,0],[0,-1,1,0],[0,1,0,-1]]).T\n",
    "G = np.array([[1,0,0],[0.5,0.5,0.5],[0.5,-0.5,0.5],[0,0,1]])\n",
    "\n",
    "# in_FM = np.array([1,2,3,4]).reshape((4,1))\n",
    "# filt = np.array([5,6,7]).reshape((3,1))\n",
    "\n",
    "in_FM = np.array([[1],[2],[3],[4]])\n",
    "filt = np.array([[5],[6],[7]])\n",
    "\n",
    "output = A.T.dot((G.dot(filt)) * (B.T.dot(in_FM)))\n",
    "print output"
   ]
  },
  {
   "cell_type": "code",
   "execution_count": null,
   "metadata": {},
   "outputs": [],
   "source": []
  }
 ],
 "metadata": {
  "kernelspec": {
   "display_name": "Python 2",
   "language": "python",
   "name": "python2"
  },
  "language_info": {
   "codemirror_mode": {
    "name": "ipython",
    "version": 2
   },
   "file_extension": ".py",
   "mimetype": "text/x-python",
   "name": "python",
   "nbconvert_exporter": "python",
   "pygments_lexer": "ipython2",
   "version": "2.7.15"
  }
 },
 "nbformat": 4,
 "nbformat_minor": 2
}
